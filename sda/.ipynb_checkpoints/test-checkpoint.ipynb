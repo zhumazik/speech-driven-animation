{
 "cells": [
  {
   "cell_type": "code",
   "execution_count": 1,
   "metadata": {},
   "outputs": [],
   "source": [
    "import sda"
   ]
  },
  {
   "cell_type": "code",
   "execution_count": 2,
   "metadata": {},
   "outputs": [],
   "source": [
    "import numpy as np\n",
    "import torch\n",
    "import scipy.io.wavfile as wav\n",
    "from PIL import Image\n",
    "\n",
    "va1 = sda.VideoAnimator(model_path = 'timit')# Instantiate the aminator\n",
    "fs, audio_clip = wav.read(\"audio.wav\")\n",
    "still_frame = np.array(Image.open(\"image3.bmp\"))\n",
    "vid1, aud1 = va1(still_frame, audio_clip, fs=fs)"
   ]
  },
  {
   "cell_type": "code",
   "execution_count": 4,
   "metadata": {},
   "outputs": [],
   "source": [
    "va2 = sda.VideoAnimator(model_path = 'crema')# Instantiate the aminator\n",
    "vid2, aud2 = va2(still_frame, audio_clip, fs=fs)\n",
    "\n",
    "audio_clip = torch.from_numpy(audio_clip).float()\n",
    "va3 = sda.VideoAnimator(model_path = 'grid')# Instantiate the aminator\n",
    "vid3, aud3 = va3(still_frame, audio_clip, fs=fs)"
   ]
  },
  {
   "cell_type": "code",
   "execution_count": 8,
   "metadata": {},
   "outputs": [
    {
     "data": {
      "text/plain": [
       "(75, 3, 128, 96)"
      ]
     },
     "execution_count": 8,
     "metadata": {},
     "output_type": "execute_result"
    }
   ],
   "source": [
    "vid3.shape"
   ]
  },
  {
   "cell_type": "code",
   "execution_count": 9,
   "metadata": {},
   "outputs": [],
   "source": [
    "#audio_clip = torch.from_numpy(audio_clip).float()\n",
    "vid = (vid1 + vid2)/3"
   ]
  },
  {
   "cell_type": "code",
   "execution_count": 10,
   "metadata": {},
   "outputs": [],
   "source": [
    "new_vid = vid.astype(np.uint8);\n",
    "new_vid = np.moveaxis(new_vid, 1, 3);"
   ]
  },
  {
   "cell_type": "code",
   "execution_count": 11,
   "metadata": {},
   "outputs": [],
   "source": [
    "import numpy as np\n",
    "from cv2 import VideoWriter, VideoWriter_fourcc, cvtColor, COLOR_BGR2RGB\n",
    "\n",
    "width = 96\n",
    "height = 128\n",
    "FPS = 24\n",
    "seconds = 10\n",
    "\n",
    "fourcc = VideoWriter_fourcc(*'MP42')\n",
    "video = VideoWriter('./noise3.avi', fourcc, float(FPS), (width, height))\n",
    "\n",
    "\n",
    "\n",
    "for i in range(75):\n",
    "    frame = new_vid[i,:,:,:]\n",
    "    frame = cvtColor(frame, COLOR_BGR2RGB)\n",
    "    video.write(frame)\n",
    "video.release()"
   ]
  },
  {
   "cell_type": "code",
   "execution_count": null,
   "metadata": {},
   "outputs": [],
   "source": []
  }
 ],
 "metadata": {
  "kernelspec": {
   "display_name": "Python 3",
   "language": "python",
   "name": "python3"
  },
  "language_info": {
   "codemirror_mode": {
    "name": "ipython",
    "version": 3
   },
   "file_extension": ".py",
   "mimetype": "text/x-python",
   "name": "python",
   "nbconvert_exporter": "python",
   "pygments_lexer": "ipython3",
   "version": "3.6.7"
  }
 },
 "nbformat": 4,
 "nbformat_minor": 2
}
